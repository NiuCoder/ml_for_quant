{
 "cells": [
  {
   "cell_type": "markdown",
   "metadata": {},
   "source": [
    "# 利用sklearn对沪深300股票做聚类\n",
    "数据源\n",
    "------\n",
    "数据源可以从tushare上取沪深300的成分股代码及名称，然后依次调用行情接口获取每只股票在一个时间段内的价格数据\n",
    "\n",
    "特殊处理\n",
    "--------\n",
    "由于windows上访问tushare抓取数据通道始终不通，这里首先通过外网服务器GCP抓取数据到csv，然后把csv拷贝到本地，然后此处通过读取csv文件的方式查询所需要的数据。\n"
   ]
  },
  {
   "cell_type": "code",
   "execution_count": 97,
   "metadata": {
    "collapsed": true
   },
   "outputs": [],
   "source": [
    "from pandas import Series,DataFrame\n",
    "import numpy as np\n",
    "import pandas as pd\n",
    "import matplotlib.pyplot as plt\n",
    "from matplotlib.collections import LineCollection\n",
    "from sklearn import cluster, covariance, manifold\n",
    "from datetime import datetime\n",
    "import sys"
   ]
  },
  {
   "cell_type": "code",
   "execution_count": 4,
   "metadata": {
    "scrolled": true
   },
   "outputs": [
    {
     "data": {
      "text/html": [
       "<div>\n",
       "<style scoped>\n",
       "    .dataframe tbody tr th:only-of-type {\n",
       "        vertical-align: middle;\n",
       "    }\n",
       "\n",
       "    .dataframe tbody tr th {\n",
       "        vertical-align: top;\n",
       "    }\n",
       "\n",
       "    .dataframe thead th {\n",
       "        text-align: right;\n",
       "    }\n",
       "</style>\n",
       "<table border=\"1\" class=\"dataframe\">\n",
       "  <thead>\n",
       "    <tr style=\"text-align: right;\">\n",
       "      <th></th>\n",
       "      <th>Unnamed: 0</th>\n",
       "      <th>code</th>\n",
       "      <th>name</th>\n",
       "      <th>date</th>\n",
       "      <th>weight</th>\n",
       "    </tr>\n",
       "  </thead>\n",
       "  <tbody>\n",
       "    <tr>\n",
       "      <th>295</th>\n",
       "      <td>295</td>\n",
       "      <td>1</td>\n",
       "      <td>平安银行</td>\n",
       "      <td>2017-09-01</td>\n",
       "      <td>0.89</td>\n",
       "    </tr>\n",
       "    <tr>\n",
       "      <th>296</th>\n",
       "      <td>296</td>\n",
       "      <td>600019</td>\n",
       "      <td>宝钢股份</td>\n",
       "      <td>2017-09-01</td>\n",
       "      <td>0.70</td>\n",
       "    </tr>\n",
       "    <tr>\n",
       "      <th>297</th>\n",
       "      <td>297</td>\n",
       "      <td>601088</td>\n",
       "      <td>中国神华</td>\n",
       "      <td>2017-09-01</td>\n",
       "      <td>0.39</td>\n",
       "    </tr>\n",
       "    <tr>\n",
       "      <th>298</th>\n",
       "      <td>298</td>\n",
       "      <td>826</td>\n",
       "      <td>启迪桑德</td>\n",
       "      <td>2017-09-01</td>\n",
       "      <td>0.16</td>\n",
       "    </tr>\n",
       "    <tr>\n",
       "      <th>299</th>\n",
       "      <td>299</td>\n",
       "      <td>2142</td>\n",
       "      <td>宁波银行</td>\n",
       "      <td>2017-09-01</td>\n",
       "      <td>0.37</td>\n",
       "    </tr>\n",
       "  </tbody>\n",
       "</table>\n",
       "</div>"
      ],
      "text/plain": [
       "     Unnamed: 0    code  name        date  weight\n",
       "295         295       1  平安银行  2017-09-01    0.89\n",
       "296         296  600019  宝钢股份  2017-09-01    0.70\n",
       "297         297  601088  中国神华  2017-09-01    0.39\n",
       "298         298     826  启迪桑德  2017-09-01    0.16\n",
       "299         299    2142  宁波银行  2017-09-01    0.37"
      ]
     },
     "execution_count": 4,
     "metadata": {},
     "output_type": "execute_result"
    }
   ],
   "source": [
    "#数据的读取\n",
    "hs300s = pd.read_csv('hs300.csv')\n",
    "daily_prices = pd.read_csv('daily_price.csv')\n",
    "#数据格式展示\n",
    "hs300s.tail()"
   ]
  },
  {
   "cell_type": "code",
   "execution_count": 5,
   "metadata": {},
   "outputs": [
    {
     "data": {
      "text/html": [
       "<div>\n",
       "<style scoped>\n",
       "    .dataframe tbody tr th:only-of-type {\n",
       "        vertical-align: middle;\n",
       "    }\n",
       "\n",
       "    .dataframe tbody tr th {\n",
       "        vertical-align: top;\n",
       "    }\n",
       "\n",
       "    .dataframe thead th {\n",
       "        text-align: right;\n",
       "    }\n",
       "</style>\n",
       "<table border=\"1\" class=\"dataframe\">\n",
       "  <thead>\n",
       "    <tr style=\"text-align: right;\">\n",
       "      <th></th>\n",
       "      <th>date</th>\n",
       "      <th>open</th>\n",
       "      <th>high</th>\n",
       "      <th>close</th>\n",
       "      <th>low</th>\n",
       "      <th>volume</th>\n",
       "      <th>price_change</th>\n",
       "      <th>p_change</th>\n",
       "      <th>ma5</th>\n",
       "      <th>ma10</th>\n",
       "      <th>ma20</th>\n",
       "      <th>v_ma5</th>\n",
       "      <th>v_ma10</th>\n",
       "      <th>v_ma20</th>\n",
       "      <th>turnover</th>\n",
       "      <th>symbol</th>\n",
       "    </tr>\n",
       "  </thead>\n",
       "  <tbody>\n",
       "    <tr>\n",
       "      <th>64238</th>\n",
       "      <td>2017-01-09</td>\n",
       "      <td>3.76</td>\n",
       "      <td>3.80</td>\n",
       "      <td>3.79</td>\n",
       "      <td>3.75</td>\n",
       "      <td>177582.03</td>\n",
       "      <td>0.02</td>\n",
       "      <td>0.53</td>\n",
       "      <td>3.782</td>\n",
       "      <td>3.778</td>\n",
       "      <td>3.830</td>\n",
       "      <td>236457.98</td>\n",
       "      <td>222423.46</td>\n",
       "      <td>247314.79</td>\n",
       "      <td>0.14</td>\n",
       "      <td>603993</td>\n",
       "    </tr>\n",
       "    <tr>\n",
       "      <th>64239</th>\n",
       "      <td>2017-01-06</td>\n",
       "      <td>3.79</td>\n",
       "      <td>3.81</td>\n",
       "      <td>3.77</td>\n",
       "      <td>3.75</td>\n",
       "      <td>279386.44</td>\n",
       "      <td>-0.03</td>\n",
       "      <td>-0.79</td>\n",
       "      <td>3.768</td>\n",
       "      <td>3.785</td>\n",
       "      <td>3.843</td>\n",
       "      <td>240278.95</td>\n",
       "      <td>235924.33</td>\n",
       "      <td>254606.42</td>\n",
       "      <td>0.22</td>\n",
       "      <td>603993</td>\n",
       "    </tr>\n",
       "    <tr>\n",
       "      <th>64240</th>\n",
       "      <td>2017-01-05</td>\n",
       "      <td>3.78</td>\n",
       "      <td>3.82</td>\n",
       "      <td>3.80</td>\n",
       "      <td>3.77</td>\n",
       "      <td>236272.31</td>\n",
       "      <td>0.00</td>\n",
       "      <td>0.00</td>\n",
       "      <td>3.762</td>\n",
       "      <td>3.792</td>\n",
       "      <td>3.857</td>\n",
       "      <td>233141.86</td>\n",
       "      <td>225450.74</td>\n",
       "      <td>263994.18</td>\n",
       "      <td>0.18</td>\n",
       "      <td>603993</td>\n",
       "    </tr>\n",
       "    <tr>\n",
       "      <th>64241</th>\n",
       "      <td>2017-01-04</td>\n",
       "      <td>3.75</td>\n",
       "      <td>3.80</td>\n",
       "      <td>3.80</td>\n",
       "      <td>3.73</td>\n",
       "      <td>295050.81</td>\n",
       "      <td>0.05</td>\n",
       "      <td>1.33</td>\n",
       "      <td>3.758</td>\n",
       "      <td>3.798</td>\n",
       "      <td>3.871</td>\n",
       "      <td>217076.35</td>\n",
       "      <td>225239.88</td>\n",
       "      <td>283783.49</td>\n",
       "      <td>0.23</td>\n",
       "      <td>603993</td>\n",
       "    </tr>\n",
       "    <tr>\n",
       "      <th>64242</th>\n",
       "      <td>2017-01-03</td>\n",
       "      <td>3.72</td>\n",
       "      <td>3.76</td>\n",
       "      <td>3.75</td>\n",
       "      <td>3.71</td>\n",
       "      <td>193998.30</td>\n",
       "      <td>0.03</td>\n",
       "      <td>0.81</td>\n",
       "      <td>3.758</td>\n",
       "      <td>3.803</td>\n",
       "      <td>3.880</td>\n",
       "      <td>200188.70</td>\n",
       "      <td>224123.93</td>\n",
       "      <td>281625.85</td>\n",
       "      <td>0.15</td>\n",
       "      <td>603993</td>\n",
       "    </tr>\n",
       "  </tbody>\n",
       "</table>\n",
       "</div>"
      ],
      "text/plain": [
       "             date  open  high  close   low     volume  price_change  p_change  \\\n",
       "64238  2017-01-09  3.76  3.80   3.79  3.75  177582.03          0.02      0.53   \n",
       "64239  2017-01-06  3.79  3.81   3.77  3.75  279386.44         -0.03     -0.79   \n",
       "64240  2017-01-05  3.78  3.82   3.80  3.77  236272.31          0.00      0.00   \n",
       "64241  2017-01-04  3.75  3.80   3.80  3.73  295050.81          0.05      1.33   \n",
       "64242  2017-01-03  3.72  3.76   3.75  3.71  193998.30          0.03      0.81   \n",
       "\n",
       "         ma5   ma10   ma20      v_ma5     v_ma10     v_ma20  turnover  symbol  \n",
       "64238  3.782  3.778  3.830  236457.98  222423.46  247314.79      0.14  603993  \n",
       "64239  3.768  3.785  3.843  240278.95  235924.33  254606.42      0.22  603993  \n",
       "64240  3.762  3.792  3.857  233141.86  225450.74  263994.18      0.18  603993  \n",
       "64241  3.758  3.798  3.871  217076.35  225239.88  283783.49      0.23  603993  \n",
       "64242  3.758  3.803  3.880  200188.70  224123.93  281625.85      0.15  603993  "
      ]
     },
     "execution_count": 5,
     "metadata": {},
     "output_type": "execute_result"
    }
   ],
   "source": [
    "daily_prices.tail()"
   ]
  },
  {
   "cell_type": "code",
   "execution_count": 155,
   "metadata": {},
   "outputs": [],
   "source": [
    "#输入数据处理\n",
    "#symbols = np.array([str(sym).zfill(6) for sym in hs300s['code']]).T\n",
    "symbols = hs300s['code']\n",
    "names = hs300s['name'] \n",
    "#这里需要对齐进行 \n",
    "\n",
    "#起止时间\n",
    "start_date = datetime(2017, 1, 1).date()\n",
    "end_date = datetime(2017, 12, 1).date()"
   ]
  },
  {
   "cell_type": "code",
   "execution_count": 132,
   "metadata": {},
   "outputs": [],
   "source": [
    "quotes = []\n",
    "for symbol in symbols:\n",
    "    #由于抓取的沪深300股票不是每只股票都有所有的交易数据（tushare质量不咋地啊），因此需要处理所有股票交易日个数相同，即维度相同\n",
    "    if len(daily_prices[daily_prices.symbol==symbol][:100])==100:\n",
    "        quotes.append(daily_prices[daily_prices.symbol==symbol][:100])"
   ]
  },
  {
   "cell_type": "code",
   "execution_count": 136,
   "metadata": {
    "scrolled": true
   },
   "outputs": [],
   "source": [
    "close_prices = np.vstack([q['close'] for q in quotes])\n",
    "open_prices = np.vstack([q['open'] for q in quotes])\n",
    "#日价格变动信息携带了最多的信息\n",
    "variation = close_prices - open_prices"
   ]
  },
  {
   "cell_type": "code",
   "execution_count": 138,
   "metadata": {},
   "outputs": [
    {
     "data": {
      "text/plain": [
       "array([[-0.7982523 , -0.97670774, -0.10849133, ..., -0.68500025,\n",
       "        -0.2273178 , -0.1469447 ],\n",
       "       [ 2.83016725,  2.93012323,  1.73586134, ..., -1.34365434,\n",
       "        -2.70508177, -2.35111525],\n",
       "       [-1.05224167, -0.42975141, -0.325474  , ..., -0.23711547,\n",
       "        -0.84107585,  0.22041705],\n",
       "       ..., \n",
       "       [-0.14513678, -0.31254648, -0.05424567, ..., -0.60596176,\n",
       "         0.15912246,  2.31437907],\n",
       "       [-0.43541035, -0.03906831, -0.54245667, ...,  0.5796156 ,\n",
       "        -1.1138572 , -0.18368088],\n",
       "       [-0.36284196, -0.27347817,  0.        , ...,  0.23711547,\n",
       "        -0.47736737,  2.02048966]])"
      ]
     },
     "execution_count": 138,
     "metadata": {},
     "output_type": "execute_result"
    }
   ],
   "source": [
    "# Learn a graphical structure from the correlations(建模)\n",
    "edge_model = covariance.GraphLassoCV()\n",
    "\n",
    "# standardize the time series: using correlations rather than covariance\n",
    "# is more efficient for structure recovery（数据归一化）\n",
    "X = variation.copy().T\n",
    "X /= X.std(axis=0)"
   ]
  },
  {
   "cell_type": "code",
   "execution_count": 140,
   "metadata": {},
   "outputs": [
    {
     "name": "stderr",
     "output_type": "stream",
     "text": [
      "C:\\Users\\zn\\Anaconda3\\envs\\test_py2\\lib\\site-packages\\sklearn\\covariance\\graph_lasso_.py:230: RuntimeWarning: overflow encountered in multiply\n",
      "  * coefs)\n",
      "C:\\Users\\zn\\Anaconda3\\envs\\test_py2\\lib\\site-packages\\sklearn\\covariance\\graph_lasso_.py:232: RuntimeWarning: overflow encountered in multiply\n",
      "  * coefs)\n",
      "C:\\Users\\zn\\Anaconda3\\envs\\test_py2\\lib\\site-packages\\numpy\\linalg\\linalg.py:1741: RuntimeWarning: invalid value encountered in slogdet\n",
      "  sign, logdet = _umath_linalg.slogdet(a, signature=signature)\n",
      "C:\\Users\\zn\\Anaconda3\\envs\\test_py2\\lib\\site-packages\\sklearn\\covariance\\graph_lasso_.py:230: RuntimeWarning: invalid value encountered in multiply\n",
      "  * coefs)\n",
      "C:\\Users\\zn\\Anaconda3\\envs\\test_py2\\lib\\site-packages\\sklearn\\covariance\\graph_lasso_.py:232: RuntimeWarning: invalid value encountered in multiply\n",
      "  * coefs)\n"
     ]
    },
    {
     "data": {
      "text/plain": [
       "GraphLassoCV(alphas=4, assume_centered=False, cv=None, enet_tol=0.0001,\n",
       "       max_iter=100, mode='cd', n_jobs=1, n_refinements=4, tol=0.0001,\n",
       "       verbose=False)"
      ]
     },
     "execution_count": 140,
     "metadata": {},
     "output_type": "execute_result"
    }
   ],
   "source": [
    "#输入数据训练模型\n",
    "edge_model.fit(X)"
   ]
  },
  {
   "cell_type": "code",
   "execution_count": 141,
   "metadata": {},
   "outputs": [
    {
     "data": {
      "text/plain": [
       "61"
      ]
     },
     "execution_count": 141,
     "metadata": {},
     "output_type": "execute_result"
    }
   ],
   "source": [
    "_, labels = cluster.affinity_propagation(edge_model.covariance_)\n",
    "n_labels = labels.max()\n",
    "n_labels"
   ]
  },
  {
   "cell_type": "code",
   "execution_count": 142,
   "metadata": {
    "collapsed": true
   },
   "outputs": [],
   "source": [
    "# Find a low-dimension embedding for visualization: find the best position of\n",
    "# the nodes (the stocks) on a 2D plane\n",
    "\n",
    "# We use a dense eigen_solver to achieve reproducibility (arpack is\n",
    "# initiated with random vectors that we don't control). In addition, we\n",
    "# use a large number of neighbors to capture the large-scale structure.\n",
    "node_position_model = manifold.LocallyLinearEmbedding(\n",
    "    n_components=2, eigen_solver='dense', n_neighbors=6)\n",
    "\n",
    "embedding = node_position_model.fit_transform(X.T).T"
   ]
  },
  {
   "cell_type": "code",
   "execution_count": 144,
   "metadata": {},
   "outputs": [
    {
     "data": {
      "text/plain": [
       "(0.0, 1.0, 0.0, 1.0)"
      ]
     },
     "execution_count": 144,
     "metadata": {},
     "output_type": "execute_result"
    }
   ],
   "source": [
    "# Visualization\n",
    "plt.figure(1, facecolor='w', figsize=(10, 8))\n",
    "plt.clf()\n",
    "ax = plt.axes([0., 0., 1., 1.])\n",
    "plt.axis('off')"
   ]
  },
  {
   "cell_type": "code",
   "execution_count": 145,
   "metadata": {
    "collapsed": true
   },
   "outputs": [],
   "source": [
    "# Display a graph of the partial correlations\n",
    "partial_correlations = edge_model.precision_.copy()\n",
    "d = 1 / np.sqrt(np.diag(partial_correlations))\n",
    "partial_correlations *= d\n",
    "partial_correlations *= d[:, np.newaxis]\n",
    "non_zero = (np.abs(np.triu(partial_correlations, k=1)) > 0.02)"
   ]
  },
  {
   "cell_type": "code",
   "execution_count": 146,
   "metadata": {},
   "outputs": [
    {
     "data": {
      "text/plain": [
       "<matplotlib.collections.PathCollection at 0x1d965978>"
      ]
     },
     "execution_count": 146,
     "metadata": {},
     "output_type": "execute_result"
    }
   ],
   "source": [
    "# Plot the nodes using the coordinates of our embedding\n",
    "plt.scatter(embedding[0], embedding[1], s=100 * d ** 2, c=labels,\n",
    "            cmap=plt.cm.spectral)"
   ]
  },
  {
   "cell_type": "code",
   "execution_count": 147,
   "metadata": {
    "collapsed": true
   },
   "outputs": [],
   "source": [
    "# Plot the edges\n",
    "start_idx, end_idx = np.where(non_zero)"
   ]
  },
  {
   "cell_type": "code",
   "execution_count": 148,
   "metadata": {},
   "outputs": [
    {
     "data": {
      "text/plain": [
       "<matplotlib.collections.LineCollection at 0x27c89d30>"
      ]
     },
     "execution_count": 148,
     "metadata": {},
     "output_type": "execute_result"
    }
   ],
   "source": [
    "# a sequence of (*line0*, *line1*, *line2*), where::\n",
    "#            linen = (x0, y0), (x1, y1), ... (xm, ym)\n",
    "segments = [[embedding[:, start], embedding[:, stop]]\n",
    "            for start, stop in zip(start_idx, end_idx)]\n",
    "values = np.abs(partial_correlations[non_zero])\n",
    "lc = LineCollection(segments,\n",
    "                    zorder=0, cmap=plt.cm.hot_r,\n",
    "                    norm=plt.Normalize(0, .7 * values.max()))\n",
    "lc.set_array(values)\n",
    "lc.set_linewidths(15 * values)\n",
    "ax.add_collection(lc)"
   ]
  },
  {
   "cell_type": "code",
   "execution_count": 156,
   "metadata": {},
   "outputs": [
    {
     "data": {
      "image/png": "[encoded data removed]",
      "text/plain": [
       "<matplotlib.figure.Figure at 0x27c7cef0>"
      ]
     },
     "metadata": {},
     "output_type": "display_data"
    }
   ],
   "source": [
    "for index, (name, label, (x, y)) in enumerate(\n",
    "        zip(names, labels, embedding.T)):\n",
    "\n",
    "    dx = x - embedding[0]\n",
    "    dx[index] = 1\n",
    "    dy = y - embedding[1]\n",
    "    dy[index] = 1\n",
    "    this_dx = dx[np.argmin(np.abs(dy))]\n",
    "    this_dy = dy[np.argmin(np.abs(dx))]\n",
    "    if this_dx > 0:\n",
    "        horizontalalignment = 'left'\n",
    "        x = x + .002\n",
    "    else:\n",
    "        horizontalalignment = 'right'\n",
    "        x = x - .002\n",
    "    if this_dy > 0:\n",
    "        verticalalignment = 'bottom'\n",
    "        y = y + .002\n",
    "    else:\n",
    "        verticalalignment = 'top'\n",
    "        y = y - .002\n",
    "    plt.text(x, y, name, size=10,\n",
    "             horizontalalignment=horizontalalignment,\n",
    "             verticalalignment=verticalalignment,\n",
    "             bbox=dict(facecolor='w',\n",
    "                       edgecolor=plt.cm.spectral(label / float(n_labels)),\n",
    "                       alpha=.6))\n",
    "plt.xlim(embedding[0].min() - .15 * embedding[0].ptp(),\n",
    "         embedding[0].max() + .10 * embedding[0].ptp(),)\n",
    "plt.ylim(embedding[1].min() - .03 * embedding[1].ptp(),\n",
    "         embedding[1].max() + .03 * embedding[1].ptp())\n",
    "\n",
    "plt.show()"
   ]
  },
  {
   "cell_type": "code",
   "execution_count": null,
   "metadata": {
    "collapsed": true
   },
   "outputs": [],
   "source": []
  }
 ],
 "metadata": {
  "kernelspec": {
   "display_name": "Python 2",
   "language": "python",
   "name": "python2"
  },
  "language_info": {
   "codemirror_mode": {
    "name": "ipython",
    "version": 2
   },
   "file_extension": ".py",
   "mimetype": "text/x-python",
   "name": "python",
   "nbconvert_exporter": "python",
   "pygments_lexer": "ipython2",
   "version": "2.7.13"
  }
 },
 "nbformat": 4,
 "nbformat_minor": 2
}
